{
 "cells": [
  {
   "cell_type": "markdown",
   "metadata": {},
   "source": [
    "A user table (\"takehome_users\") with data on 12,000 users who signed up for the product in the last two years.  This table includes: \n",
    "* **name**: the user's name\n",
    "* **object_id**: the user's id\n",
    "* **email**: email address \n",
    "* **creation_source**: how their account was created. This takes on one of 5 values:\n",
    " * PERSONAL_PROJECTS: invited to join another user's personal workspace\n",
    " * GUEST_INVITE: invited to an organization as a guest (limited permissions)\n",
    " * ORG_INVITE: invited to an organization (as a full member)\n",
    " * SIGNUP: signed up via asana.com\n",
    " * SIGNUP_GOOGLE_AUTH: signed up using Google Authentication (using a Google email account for their login id)\n",
    "* **creation_time**: when they created their account\n",
    "* **last_session_creation_time**: unix timestamp of last login\n",
    "* CAT**opted_in_to_mailing_list**: whether they have opted into receiving marketing emails\n",
    "* CAT**enabled_for_marketing_drip**: whether they are on the regular marketing email drip\n",
    "* CAT**org_id**: the organization (group of users) they belong to\n",
    "invited_by_user_id: which user invited them to join (if applicable)."
   ]
  },
  {
   "cell_type": "markdown",
   "metadata": {},
   "source": [
    "Started by \n",
    "\n",
    "1. Got the adopted users data set as: \n",
    "\n",
    "$ mysql -u interview --password=interview --database=interview -P 3306 -h data-challenge-9x.cswh4gchpi8n.us-east-1.rds.amazonaws.com < adopted_users.sql | tr '\\t' ','  >  adopted_users.csv\n",
    "\n",
    "2. Created the \"size of org when user joined\" data set as:\n",
    "\n",
    "$ mysql -u interview --password=interview --database=interview -P 3306 -h data-challenge-9x.cswh4gchpi8n.us-east-1.rds.amazonaws.com < size_org_joined.sql | tr '\\t' ','  >  size_org_joined.csv"
   ]
  },
  {
   "cell_type": "code",
   "execution_count": 2,
   "metadata": {
    "collapsed": false
   },
   "outputs": [
    {
     "name": "stderr",
     "output_type": "stream",
     "text": [
      "/usr/local/lib/python2.7/site-packages/matplotlib/font_manager.py:273: UserWarning: Matplotlib is building the font cache using fc-list. This may take a moment.\n",
      "  warnings.warn('Matplotlib is building the font cache using fc-list. This may take a moment.')\n"
     ]
    }
   ],
   "source": [
    "import numpy as np\n",
    "import pandas as pd\n",
    "import matplotlib.pyplot as plt\n",
    "import pylab as pl\n",
    "import statsmodels.api as sm\n",
    "\n",
    "#%matplotlib inline"
   ]
  },
  {
   "cell_type": "code",
   "execution_count": 3,
   "metadata": {
    "collapsed": false
   },
   "outputs": [],
   "source": [
    "#Put all csvs into Data Frames\n",
    "\n",
    "users_df = pd.read_csv('takehome_users.csv')\n",
    "user_engagement_df = pd.read_csv('takehome_user_engagement.csv')\n",
    "adopted_users_df = pd.read_csv('adopted_users.csv')\n",
    "size_org_joined_df = pd.read_csv('size_org_joined.csv')"
   ]
  },
  {
   "cell_type": "code",
   "execution_count": 6,
   "metadata": {
    "collapsed": false
   },
   "outputs": [
    {
     "data": {
      "text/html": [
       "<div>\n",
       "<table border=\"1\" class=\"dataframe\">\n",
       "  <thead>\n",
       "    <tr style=\"text-align: right;\">\n",
       "      <th></th>\n",
       "      <th>creation_source_GUEST_INVITE</th>\n",
       "      <th>creation_source_ORG_INVITE</th>\n",
       "      <th>creation_source_PERSONAL_PROJECTS</th>\n",
       "      <th>creation_source_SIGNUP</th>\n",
       "      <th>creation_source_SIGNUP_GOOGLE_AUTH</th>\n",
       "    </tr>\n",
       "  </thead>\n",
       "  <tbody>\n",
       "    <tr>\n",
       "      <th>0</th>\n",
       "      <td>1.0</td>\n",
       "      <td>0.0</td>\n",
       "      <td>0.0</td>\n",
       "      <td>0.0</td>\n",
       "      <td>0.0</td>\n",
       "    </tr>\n",
       "    <tr>\n",
       "      <th>1</th>\n",
       "      <td>0.0</td>\n",
       "      <td>1.0</td>\n",
       "      <td>0.0</td>\n",
       "      <td>0.0</td>\n",
       "      <td>0.0</td>\n",
       "    </tr>\n",
       "    <tr>\n",
       "      <th>2</th>\n",
       "      <td>0.0</td>\n",
       "      <td>1.0</td>\n",
       "      <td>0.0</td>\n",
       "      <td>0.0</td>\n",
       "      <td>0.0</td>\n",
       "    </tr>\n",
       "    <tr>\n",
       "      <th>3</th>\n",
       "      <td>1.0</td>\n",
       "      <td>0.0</td>\n",
       "      <td>0.0</td>\n",
       "      <td>0.0</td>\n",
       "      <td>0.0</td>\n",
       "    </tr>\n",
       "    <tr>\n",
       "      <th>4</th>\n",
       "      <td>1.0</td>\n",
       "      <td>0.0</td>\n",
       "      <td>0.0</td>\n",
       "      <td>0.0</td>\n",
       "      <td>0.0</td>\n",
       "    </tr>\n",
       "  </tbody>\n",
       "</table>\n",
       "</div>"
      ],
      "text/plain": [
       "   creation_source_GUEST_INVITE  creation_source_ORG_INVITE  \\\n",
       "0                           1.0                         0.0   \n",
       "1                           0.0                         1.0   \n",
       "2                           0.0                         1.0   \n",
       "3                           1.0                         0.0   \n",
       "4                           1.0                         0.0   \n",
       "\n",
       "   creation_source_PERSONAL_PROJECTS  creation_source_SIGNUP  \\\n",
       "0                                0.0                     0.0   \n",
       "1                                0.0                     0.0   \n",
       "2                                0.0                     0.0   \n",
       "3                                0.0                     0.0   \n",
       "4                                0.0                     0.0   \n",
       "\n",
       "   creation_source_SIGNUP_GOOGLE_AUTH  \n",
       "0                                 0.0  \n",
       "1                                 0.0  \n",
       "2                                 0.0  \n",
       "3                                 0.0  \n",
       "4                                 0.0  "
      ]
     },
     "execution_count": 6,
     "metadata": {},
     "output_type": "execute_result"
    }
   ],
   "source": [
    "# Make dummies out of the creation_source category variable\n",
    "creation_source_dummies = pd.get_dummies(users_df['creation_source'], prefix='creation_source')\n",
    "creation_source_dummies.head()"
   ]
  },
  {
   "cell_type": "code",
   "execution_count": 5,
   "metadata": {
    "collapsed": false
   },
   "outputs": [],
   "source": [
    "# Make another column in users that segments weekday or not (0 = weekend, 1 = weekeday)\n",
    "temp = users_df['creation_time'].apply(lambda x: pd.to_datetime(x).weekday())\n",
    "users_df['weekday'] = temp.apply(lambda x: 1 if x < 5 else 0)"
   ]
  },
  {
   "cell_type": "code",
   "execution_count": 7,
   "metadata": {
    "collapsed": false
   },
   "outputs": [
    {
     "data": {
      "text/html": [
       "<div>\n",
       "<table border=\"1\" class=\"dataframe\">\n",
       "  <thead>\n",
       "    <tr style=\"text-align: right;\">\n",
       "      <th></th>\n",
       "      <th>all_users</th>\n",
       "      <th>adopted</th>\n",
       "      <th>object_id</th>\n",
       "      <th>last_session_creation_time</th>\n",
       "      <th>opted_in_to_mailing_list</th>\n",
       "      <th>enabled_for_marketing_drip</th>\n",
       "      <th>org_id</th>\n",
       "      <th>invited_by_user_id</th>\n",
       "      <th>weekday</th>\n",
       "      <th>creation_source_GUEST_INVITE</th>\n",
       "      <th>creation_source_ORG_INVITE</th>\n",
       "      <th>creation_source_PERSONAL_PROJECTS</th>\n",
       "      <th>creation_source_SIGNUP</th>\n",
       "      <th>creation_source_SIGNUP_GOOGLE_AUTH</th>\n",
       "      <th>org_size</th>\n",
       "    </tr>\n",
       "  </thead>\n",
       "  <tbody>\n",
       "    <tr>\n",
       "      <th>count</th>\n",
       "      <td>11583.000000</td>\n",
       "      <td>11583.000000</td>\n",
       "      <td>11583.000000</td>\n",
       "      <td>8.503000e+03</td>\n",
       "      <td>11583.000000</td>\n",
       "      <td>11583.000000</td>\n",
       "      <td>11583.00000</td>\n",
       "      <td>6201.000000</td>\n",
       "      <td>11583.000000</td>\n",
       "      <td>11583.000000</td>\n",
       "      <td>11583.000000</td>\n",
       "      <td>11583.000000</td>\n",
       "      <td>11583.000000</td>\n",
       "      <td>11583.000000</td>\n",
       "      <td>11583.000000</td>\n",
       "    </tr>\n",
       "    <tr>\n",
       "      <th>mean</th>\n",
       "      <td>5999.542433</td>\n",
       "      <td>0.109816</td>\n",
       "      <td>5999.542433</td>\n",
       "      <td>1.380255e+09</td>\n",
       "      <td>0.247950</td>\n",
       "      <td>0.148752</td>\n",
       "      <td>139.50436</td>\n",
       "      <td>5967.517336</td>\n",
       "      <td>0.723388</td>\n",
       "      <td>0.178883</td>\n",
       "      <td>0.356471</td>\n",
       "      <td>0.175257</td>\n",
       "      <td>0.174307</td>\n",
       "      <td>0.115082</td>\n",
       "      <td>28.028231</td>\n",
       "    </tr>\n",
       "    <tr>\n",
       "      <th>std</th>\n",
       "      <td>3465.728531</td>\n",
       "      <td>0.312674</td>\n",
       "      <td>3465.728531</td>\n",
       "      <td>1.873177e+07</td>\n",
       "      <td>0.431841</td>\n",
       "      <td>0.355860</td>\n",
       "      <td>123.52896</td>\n",
       "      <td>3384.678441</td>\n",
       "      <td>0.447342</td>\n",
       "      <td>0.383271</td>\n",
       "      <td>0.478977</td>\n",
       "      <td>0.380203</td>\n",
       "      <td>0.379390</td>\n",
       "      <td>0.319135</td>\n",
       "      <td>40.624810</td>\n",
       "    </tr>\n",
       "    <tr>\n",
       "      <th>min</th>\n",
       "      <td>1.000000</td>\n",
       "      <td>0.000000</td>\n",
       "      <td>1.000000</td>\n",
       "      <td>1.338801e+09</td>\n",
       "      <td>0.000000</td>\n",
       "      <td>0.000000</td>\n",
       "      <td>0.00000</td>\n",
       "      <td>3.000000</td>\n",
       "      <td>0.000000</td>\n",
       "      <td>0.000000</td>\n",
       "      <td>0.000000</td>\n",
       "      <td>0.000000</td>\n",
       "      <td>0.000000</td>\n",
       "      <td>0.000000</td>\n",
       "      <td>1.000000</td>\n",
       "    </tr>\n",
       "    <tr>\n",
       "      <th>25%</th>\n",
       "      <td>3005.500000</td>\n",
       "      <td>0.000000</td>\n",
       "      <td>3005.500000</td>\n",
       "      <td>1.364862e+09</td>\n",
       "      <td>0.000000</td>\n",
       "      <td>0.000000</td>\n",
       "      <td>28.00000</td>\n",
       "      <td>3037.000000</td>\n",
       "      <td>0.000000</td>\n",
       "      <td>0.000000</td>\n",
       "      <td>0.000000</td>\n",
       "      <td>0.000000</td>\n",
       "      <td>0.000000</td>\n",
       "      <td>0.000000</td>\n",
       "      <td>7.000000</td>\n",
       "    </tr>\n",
       "    <tr>\n",
       "      <th>50%</th>\n",
       "      <td>5991.000000</td>\n",
       "      <td>0.000000</td>\n",
       "      <td>5991.000000</td>\n",
       "      <td>1.383763e+09</td>\n",
       "      <td>0.000000</td>\n",
       "      <td>0.000000</td>\n",
       "      <td>105.00000</td>\n",
       "      <td>5952.000000</td>\n",
       "      <td>1.000000</td>\n",
       "      <td>0.000000</td>\n",
       "      <td>0.000000</td>\n",
       "      <td>0.000000</td>\n",
       "      <td>0.000000</td>\n",
       "      <td>0.000000</td>\n",
       "      <td>15.000000</td>\n",
       "    </tr>\n",
       "    <tr>\n",
       "      <th>75%</th>\n",
       "      <td>9005.500000</td>\n",
       "      <td>0.000000</td>\n",
       "      <td>9005.500000</td>\n",
       "      <td>1.398606e+09</td>\n",
       "      <td>0.000000</td>\n",
       "      <td>0.000000</td>\n",
       "      <td>234.00000</td>\n",
       "      <td>8830.000000</td>\n",
       "      <td>1.000000</td>\n",
       "      <td>0.000000</td>\n",
       "      <td>1.000000</td>\n",
       "      <td>0.000000</td>\n",
       "      <td>0.000000</td>\n",
       "      <td>0.000000</td>\n",
       "      <td>29.000000</td>\n",
       "    </tr>\n",
       "    <tr>\n",
       "      <th>max</th>\n",
       "      <td>12000.000000</td>\n",
       "      <td>1.000000</td>\n",
       "      <td>12000.000000</td>\n",
       "      <td>1.402067e+09</td>\n",
       "      <td>1.000000</td>\n",
       "      <td>1.000000</td>\n",
       "      <td>416.00000</td>\n",
       "      <td>11999.000000</td>\n",
       "      <td>1.000000</td>\n",
       "      <td>1.000000</td>\n",
       "      <td>1.000000</td>\n",
       "      <td>1.000000</td>\n",
       "      <td>1.000000</td>\n",
       "      <td>1.000000</td>\n",
       "      <td>318.000000</td>\n",
       "    </tr>\n",
       "  </tbody>\n",
       "</table>\n",
       "</div>"
      ],
      "text/plain": [
       "          all_users       adopted     object_id  last_session_creation_time  \\\n",
       "count  11583.000000  11583.000000  11583.000000                8.503000e+03   \n",
       "mean    5999.542433      0.109816   5999.542433                1.380255e+09   \n",
       "std     3465.728531      0.312674   3465.728531                1.873177e+07   \n",
       "min        1.000000      0.000000      1.000000                1.338801e+09   \n",
       "25%     3005.500000      0.000000   3005.500000                1.364862e+09   \n",
       "50%     5991.000000      0.000000   5991.000000                1.383763e+09   \n",
       "75%     9005.500000      0.000000   9005.500000                1.398606e+09   \n",
       "max    12000.000000      1.000000  12000.000000                1.402067e+09   \n",
       "\n",
       "       opted_in_to_mailing_list  enabled_for_marketing_drip       org_id  \\\n",
       "count              11583.000000                11583.000000  11583.00000   \n",
       "mean                   0.247950                    0.148752    139.50436   \n",
       "std                    0.431841                    0.355860    123.52896   \n",
       "min                    0.000000                    0.000000      0.00000   \n",
       "25%                    0.000000                    0.000000     28.00000   \n",
       "50%                    0.000000                    0.000000    105.00000   \n",
       "75%                    0.000000                    0.000000    234.00000   \n",
       "max                    1.000000                    1.000000    416.00000   \n",
       "\n",
       "       invited_by_user_id       weekday  creation_source_GUEST_INVITE  \\\n",
       "count         6201.000000  11583.000000                  11583.000000   \n",
       "mean          5967.517336      0.723388                      0.178883   \n",
       "std           3384.678441      0.447342                      0.383271   \n",
       "min              3.000000      0.000000                      0.000000   \n",
       "25%           3037.000000      0.000000                      0.000000   \n",
       "50%           5952.000000      1.000000                      0.000000   \n",
       "75%           8830.000000      1.000000                      0.000000   \n",
       "max          11999.000000      1.000000                      1.000000   \n",
       "\n",
       "       creation_source_ORG_INVITE  creation_source_PERSONAL_PROJECTS  \\\n",
       "count                11583.000000                       11583.000000   \n",
       "mean                     0.356471                           0.175257   \n",
       "std                      0.478977                           0.380203   \n",
       "min                      0.000000                           0.000000   \n",
       "25%                      0.000000                           0.000000   \n",
       "50%                      0.000000                           0.000000   \n",
       "75%                      1.000000                           0.000000   \n",
       "max                      1.000000                           1.000000   \n",
       "\n",
       "       creation_source_SIGNUP  creation_source_SIGNUP_GOOGLE_AUTH  \\\n",
       "count            11583.000000                        11583.000000   \n",
       "mean                 0.174307                            0.115082   \n",
       "std                  0.379390                            0.319135   \n",
       "min                  0.000000                            0.000000   \n",
       "25%                  0.000000                            0.000000   \n",
       "50%                  0.000000                            0.000000   \n",
       "75%                  0.000000                            0.000000   \n",
       "max                  1.000000                            1.000000   \n",
       "\n",
       "           org_size  \n",
       "count  11583.000000  \n",
       "mean      28.028231  \n",
       "std       40.624810  \n",
       "min        1.000000  \n",
       "25%        7.000000  \n",
       "50%       15.000000  \n",
       "75%       29.000000  \n",
       "max      318.000000  "
      ]
     },
     "execution_count": 7,
     "metadata": {},
     "output_type": "execute_result"
    }
   ],
   "source": [
    "# Join 'cols to keep' on everything but the first series of dummies for creation_source\n",
    "data = users_df.join(creation_source_dummies)\n",
    "# Join the size of org when joined by the object_id\n",
    "data = pd.merge(data, size_org_joined_df, on='object_id')\n",
    "# Finally  add the dependent variable, adopted_users\n",
    "data = pd.merge(adopted_users_df, data, left_on='all_users', right_on='object_id')\n",
    "\n",
    "data.describe()"
   ]
  },
  {
   "cell_type": "code",
   "execution_count": 10,
   "metadata": {
    "collapsed": false
   },
   "outputs": [],
   "source": [
    "data['intercept'] = 1\n",
    "\n",
    "ind_var_cols = [\n",
    "    'opted_in_to_mailing_list',\n",
    "    'enabled_for_marketing_drip',\n",
    "    'creation_source_GUEST_INVITE', \n",
    "    'creation_source_ORG_INVITE', \n",
    "    'creation_source_PERSONAL_PROJECTS',\n",
    "    #'creation_source_SIGNUP', Removed first category dummy for basecase\n",
    "    'creation_source_SIGNUP_GOOGLE_AUTH', \n",
    "    'org_size',\n",
    "    'weekday',\n",
    "    'intercept'\n",
    "    ]\n",
    "dep_var_col = 'adopted'"
   ]
  },
  {
   "cell_type": "code",
   "execution_count": 11,
   "metadata": {
    "collapsed": false
   },
   "outputs": [
    {
     "name": "stdout",
     "output_type": "stream",
     "text": [
      "Optimization terminated successfully.\n",
      "         Current function value: 0.337745\n",
      "         Iterations 7\n"
     ]
    },
    {
     "data": {
      "text/html": [
       "<table class=\"simpletable\">\n",
       "<caption>Logit Regression Results</caption>\n",
       "<tr>\n",
       "  <th>Dep. Variable:</th>      <td>adopted</td>     <th>  No. Observations:  </th>  <td> 11583</td>  \n",
       "</tr>\n",
       "<tr>\n",
       "  <th>Model:</th>               <td>Logit</td>      <th>  Df Residuals:      </th>  <td> 11574</td>  \n",
       "</tr>\n",
       "<tr>\n",
       "  <th>Method:</th>               <td>MLE</td>       <th>  Df Model:          </th>  <td>     8</td>  \n",
       "</tr>\n",
       "<tr>\n",
       "  <th>Date:</th>          <td>Wed, 25 May 2016</td> <th>  Pseudo R-squ.:     </th>  <td>0.02423</td> \n",
       "</tr>\n",
       "<tr>\n",
       "  <th>Time:</th>              <td>11:02:41</td>     <th>  Log-Likelihood:    </th> <td> -3912.1</td> \n",
       "</tr>\n",
       "<tr>\n",
       "  <th>converged:</th>           <td>True</td>       <th>  LL-Null:           </th> <td> -4009.2</td> \n",
       "</tr>\n",
       "<tr>\n",
       "  <th> </th>                      <td> </td>        <th>  LLR p-value:       </th> <td>1.032e-37</td>\n",
       "</tr>\n",
       "</table>\n",
       "<table class=\"simpletable\">\n",
       "<tr>\n",
       "                   <td></td>                     <th>coef</th>     <th>std err</th>      <th>z</th>      <th>P>|z|</th> <th>[95.0% Conf. Int.]</th> \n",
       "</tr>\n",
       "<tr>\n",
       "  <th>opted_in_to_mailing_list</th>           <td>    0.0451</td> <td>    0.079</td> <td>    0.571</td> <td> 0.568</td> <td>   -0.110     0.200</td>\n",
       "</tr>\n",
       "<tr>\n",
       "  <th>enabled_for_marketing_drip</th>         <td>   -0.0488</td> <td>    0.097</td> <td>   -0.506</td> <td> 0.613</td> <td>   -0.238     0.140</td>\n",
       "</tr>\n",
       "<tr>\n",
       "  <th>creation_source_GUEST_INVITE</th>       <td>    0.1388</td> <td>    0.094</td> <td>    1.474</td> <td> 0.140</td> <td>   -0.046     0.323</td>\n",
       "</tr>\n",
       "<tr>\n",
       "  <th>creation_source_ORG_INVITE</th>         <td>   -0.1297</td> <td>    0.085</td> <td>   -1.522</td> <td> 0.128</td> <td>   -0.297     0.037</td>\n",
       "</tr>\n",
       "<tr>\n",
       "  <th>creation_source_PERSONAL_PROJECTS</th>  <td>   -0.7129</td> <td>    0.114</td> <td>   -6.248</td> <td> 0.000</td> <td>   -0.937    -0.489</td>\n",
       "</tr>\n",
       "<tr>\n",
       "  <th>creation_source_SIGNUP_GOOGLE_AUTH</th> <td>    0.1118</td> <td>    0.106</td> <td>    1.051</td> <td> 0.293</td> <td>   -0.097     0.320</td>\n",
       "</tr>\n",
       "<tr>\n",
       "  <th>org_size</th>                           <td>   -0.0119</td> <td>    0.001</td> <td>   -8.887</td> <td> 0.000</td> <td>   -0.014    -0.009</td>\n",
       "</tr>\n",
       "<tr>\n",
       "  <th>weekday</th>                            <td>   -0.0749</td> <td>    0.066</td> <td>   -1.131</td> <td> 0.258</td> <td>   -0.205     0.055</td>\n",
       "</tr>\n",
       "<tr>\n",
       "  <th>intercept</th>                          <td>   -1.6711</td> <td>    0.088</td> <td>  -18.889</td> <td> 0.000</td> <td>   -1.845    -1.498</td>\n",
       "</tr>\n",
       "</table>"
      ],
      "text/plain": [
       "<class 'statsmodels.iolib.summary.Summary'>\n",
       "\"\"\"\n",
       "                           Logit Regression Results                           \n",
       "==============================================================================\n",
       "Dep. Variable:                adopted   No. Observations:                11583\n",
       "Model:                          Logit   Df Residuals:                    11574\n",
       "Method:                           MLE   Df Model:                            8\n",
       "Date:                Wed, 25 May 2016   Pseudo R-squ.:                 0.02423\n",
       "Time:                        11:02:41   Log-Likelihood:                -3912.1\n",
       "converged:                       True   LL-Null:                       -4009.2\n",
       "                                        LLR p-value:                 1.032e-37\n",
       "======================================================================================================\n",
       "                                         coef    std err          z      P>|z|      [95.0% Conf. Int.]\n",
       "------------------------------------------------------------------------------------------------------\n",
       "opted_in_to_mailing_list               0.0451      0.079      0.571      0.568        -0.110     0.200\n",
       "enabled_for_marketing_drip            -0.0488      0.097     -0.506      0.613        -0.238     0.140\n",
       "creation_source_GUEST_INVITE           0.1388      0.094      1.474      0.140        -0.046     0.323\n",
       "creation_source_ORG_INVITE            -0.1297      0.085     -1.522      0.128        -0.297     0.037\n",
       "creation_source_PERSONAL_PROJECTS     -0.7129      0.114     -6.248      0.000        -0.937    -0.489\n",
       "creation_source_SIGNUP_GOOGLE_AUTH     0.1118      0.106      1.051      0.293        -0.097     0.320\n",
       "org_size                              -0.0119      0.001     -8.887      0.000        -0.014    -0.009\n",
       "weekday                               -0.0749      0.066     -1.131      0.258        -0.205     0.055\n",
       "intercept                             -1.6711      0.088    -18.889      0.000        -1.845    -1.498\n",
       "======================================================================================================\n",
       "\"\"\""
      ]
     },
     "execution_count": 11,
     "metadata": {},
     "output_type": "execute_result"
    }
   ],
   "source": [
    "# Now to actually run the regession\n",
    "logit = sm.Logit(data[dep_var_col], data[ind_var_cols])\n",
    "\n",
    "# fit the model\n",
    "result = logit.fit()\n",
    "\n",
    "result.summary()"
   ]
  },
  {
   "cell_type": "code",
   "execution_count": 50,
   "metadata": {
    "collapsed": false
   },
   "outputs": [
    {
     "name": "stdout",
     "output_type": "stream",
     "text": [
      "opted_in_to_mailing_list              0.511283\n",
      "enabled_for_marketing_drip            0.487601\n",
      "creation_source_GUEST_INVITE          0.534444\n",
      "creation_source_ORG_INVITE            0.467313\n",
      "creation_source_PERSONAL_PROJECTS     0.328868\n",
      "creation_source_SIGNUP_GOOGLE_AUTH    0.527870\n",
      "org_size                              0.497034\n",
      "intercept                             0.151301\n",
      "dtype: float64\n"
     ]
    }
   ],
   "source": [
    "odds = 1/(1+np.exp(-result.params))\n",
    "print odds"
   ]
  },
  {
   "cell_type": "code",
   "execution_count": 44,
   "metadata": {
    "collapsed": false
   },
   "outputs": [
    {
     "data": {
      "text/plain": [
       "11575.0"
      ]
     },
     "execution_count": 44,
     "metadata": {},
     "output_type": "execute_result"
    }
   ],
   "source": [
    "result.df_resid"
   ]
  },
  {
   "cell_type": "markdown",
   "metadata": {},
   "source": [
    "From the above, the only significant variables (at conf. 95%) are:\n",
    "\n",
    "\t\n",
    "opted_in_to_mailing_list\t0.0451\t0.079\t0.572\t0.568\t-0.110 0.200\n",
    "enabled_for_marketing_drip\t-0.0496\t0.097\t-0.514\t0.608\t-0.239 0.140\n",
    "creation_source_ORG_INVITE\t-0.2689\t0.082\t-3.282\t0.001\t-0.430 -0.108\n",
    "creation_source_PERSONAL_PROJECTS\t-0.8513\t0.112\t-7.621\t0.000\t-1.070 -0.632\n",
    "creation_source_SIGNUP\t-0.1380\t0.094\t-1.466\t0.143\t-0.323 0.047\n",
    "creation_source_SIGNUP_GOOGLE_AUTH\t-0.0264\t0.104\t-0.254\t0.799\t-0.230 0.177\n",
    "org_size\t-0.0119\t0.001\t-8.880\t0.000\t-0.014 -0.009\n",
    "intercept\t-1.5864\t0.072\t-22.167\t0.000\t-1.727 -1.446\n",
    "\n"
   ]
  },
  {
   "cell_type": "code",
   "execution_count": 6,
   "metadata": {
    "collapsed": false
   },
   "outputs": [
    {
     "data": {
      "text/plain": [
       "str"
      ]
     },
     "execution_count": 6,
     "metadata": {},
     "output_type": "execute_result"
    }
   ],
   "source": [
    "#users_df['weekend'] = users_df['creation_time'].apply(lambda x: x.weekday())\n",
    "\n",
    "type(users_df['creation_time'][1])"
   ]
  },
  {
   "cell_type": "code",
   "execution_count": 25,
   "metadata": {
    "collapsed": false
   },
   "outputs": [
    {
     "data": {
      "text/html": [
       "<div>\n",
       "<table border=\"1\" class=\"dataframe\">\n",
       "  <thead>\n",
       "    <tr style=\"text-align: right;\">\n",
       "      <th></th>\n",
       "      <th>creation_time</th>\n",
       "      <th>weekday</th>\n",
       "    </tr>\n",
       "  </thead>\n",
       "  <tbody>\n",
       "    <tr>\n",
       "      <th>0</th>\n",
       "      <td>2014-04-22 03:53:30</td>\n",
       "      <td>1</td>\n",
       "    </tr>\n",
       "    <tr>\n",
       "      <th>1</th>\n",
       "      <td>2013-11-15 03:45:04</td>\n",
       "      <td>1</td>\n",
       "    </tr>\n",
       "    <tr>\n",
       "      <th>2</th>\n",
       "      <td>2013-03-19 23:14:52</td>\n",
       "      <td>1</td>\n",
       "    </tr>\n",
       "    <tr>\n",
       "      <th>3</th>\n",
       "      <td>2013-05-21 08:09:28</td>\n",
       "      <td>1</td>\n",
       "    </tr>\n",
       "    <tr>\n",
       "      <th>4</th>\n",
       "      <td>2013-01-17 10:14:20</td>\n",
       "      <td>1</td>\n",
       "    </tr>\n",
       "  </tbody>\n",
       "</table>\n",
       "</div>"
      ],
      "text/plain": [
       "         creation_time  weekday\n",
       "0  2014-04-22 03:53:30        1\n",
       "1  2013-11-15 03:45:04        1\n",
       "2  2013-03-19 23:14:52        1\n",
       "3  2013-05-21 08:09:28        1\n",
       "4  2013-01-17 10:14:20        1"
      ]
     },
     "execution_count": 25,
     "metadata": {},
     "output_type": "execute_result"
    }
   ],
   "source": [
    "users_df[['creation_time', 'weekday']].head()"
   ]
  },
  {
   "cell_type": "code",
   "execution_count": null,
   "metadata": {
    "collapsed": true
   },
   "outputs": [],
   "source": []
  }
 ],
 "metadata": {
  "kernelspec": {
   "display_name": "Python 2",
   "language": "python",
   "name": "python2"
  },
  "language_info": {
   "codemirror_mode": {
    "name": "ipython",
    "version": 2
   },
   "file_extension": ".py",
   "mimetype": "text/x-python",
   "name": "python",
   "nbconvert_exporter": "python",
   "pygments_lexer": "ipython2",
   "version": "2.7.11"
  }
 },
 "nbformat": 4,
 "nbformat_minor": 0
}
